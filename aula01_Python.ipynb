{
  "nbformat": 4,
  "nbformat_minor": 0,
  "metadata": {
    "colab": {
      "provenance": [],
      "authorship_tag": "ABX9TyM/yxPCqzXafZdPr3WbzHmA",
      "include_colab_link": true
    },
    "kernelspec": {
      "name": "python3",
      "display_name": "Python 3"
    },
    "language_info": {
      "name": "python"
    }
  },
  "cells": [
    {
      "cell_type": "markdown",
      "metadata": {
        "id": "view-in-github",
        "colab_type": "text"
      },
      "source": [
        "<a href=\"https://colab.research.google.com/github/courtesy12/programa-oFpb/blob/main/aula01_Python.ipynb\" target=\"_parent\"><img src=\"https://colab.research.google.com/assets/colab-badge.svg\" alt=\"Open In Colab\"/></a>"
      ]
    },
    {
      "cell_type": "code",
      "execution_count": 1,
      "metadata": {
        "colab": {
          "base_uri": "https://localhost:8080/"
        },
        "id": "1R-CZqHlt3mh",
        "outputId": "2ec25501-7ade-41f8-ea4e-a46ab4e81666"
      },
      "outputs": [
        {
          "output_type": "stream",
          "name": "stdout",
          "text": [
            "palmeiras não tem mundial!\n"
          ]
        }
      ],
      "source": [
        "print(\"palmeiras não tem mundial!\")"
      ]
    },
    {
      "cell_type": "code",
      "source": [
        "#variáveis\n",
        "nome = \"kennety andersson\"\n",
        "print(nome)"
      ],
      "metadata": {
        "colab": {
          "base_uri": "https://localhost:8080/"
        },
        "id": "gmfFQNJkwQA9",
        "outputId": "a6364a18-4c55-4654-b371-8fb70e2db456"
      },
      "execution_count": 5,
      "outputs": [
        {
          "output_type": "stream",
          "name": "stdout",
          "text": [
            "kennety andersson\n"
          ]
        }
      ]
    },
    {
      "cell_type": "code",
      "source": [
        "#operações com variáveis\n",
        "a = 20\n",
        "b = 35\n",
        "soma = a + b \n",
        "subtração = a - b \n",
        "divisao = a / b\n",
        "multiplicação = a * b\n"
      ],
      "metadata": {
        "id": "7_nSsztsw2Ir"
      },
      "execution_count": 15,
      "outputs": []
    },
    {
      "cell_type": "code",
      "source": [
        "print(soma)\n",
        "print(subtração)\n",
        "print(divisao)\n",
        "print(multiplicação)"
      ],
      "metadata": {
        "colab": {
          "base_uri": "https://localhost:8080/"
        },
        "id": "5yMo1dzAyFuL",
        "outputId": "ea1c4754-ab3e-4b9d-a48b-df5ad17e7c38"
      },
      "execution_count": 18,
      "outputs": [
        {
          "output_type": "stream",
          "name": "stdout",
          "text": [
            "55\n",
            "-15\n",
            "0.5714285714285714\n",
            "700\n"
          ]
        }
      ]
    },
    {
      "cell_type": "code",
      "source": [
        "#operaçao variaveis\n",
        "a = 12\n",
        "multiplicação = ( a * 5)\n",
        "print(multiplicação)"
      ],
      "metadata": {
        "colab": {
          "base_uri": "https://localhost:8080/"
        },
        "id": "nAv_s5Riy04f",
        "outputId": "6318fa41-1610-480c-f241-b722aefccc8f"
      },
      "execution_count": 23,
      "outputs": [
        {
          "output_type": "stream",
          "name": "stdout",
          "text": [
            "60\n"
          ]
        }
      ]
    },
    {
      "cell_type": "code",
      "source": [
        "#operaçoes variaveis\n",
        "tião = 5\n",
        "ana = 7\n",
        "junio = 3\n",
        "media = (tião + ana + junio / 3)\n",
        "print(media)"
      ],
      "metadata": {
        "colab": {
          "base_uri": "https://localhost:8080/"
        },
        "id": "GXH6KMJez7YU",
        "outputId": "a8e4223e-c167-4ad1-b716-1505c53c05bb"
      },
      "execution_count": 25,
      "outputs": [
        {
          "output_type": "stream",
          "name": "stdout",
          "text": [
            "13.0\n"
          ]
        }
      ]
    },
    {
      "cell_type": "code",
      "source": [
        "#data de nascimento\n",
        "anonascim = 2004\n",
        "print(2023 - 2004)"
      ],
      "metadata": {
        "colab": {
          "base_uri": "https://localhost:8080/"
        },
        "id": "_XmJpZJu2P1B",
        "outputId": "72c7c5ba-605b-42d8-ae79-3ee62b4ed05c"
      },
      "execution_count": 29,
      "outputs": [
        {
          "output_type": "stream",
          "name": "stdout",
          "text": [
            "19\n"
          ]
        }
      ]
    },
    {
      "cell_type": "code",
      "source": [
        "#trabalhando com inputs\n",
        "nome = input(\"andinho do 0800\")\n",
        "print(\"olá \"+nome)"
      ],
      "metadata": {
        "colab": {
          "base_uri": "https://localhost:8080/"
        },
        "id": "6-b25Ckw2sI2",
        "outputId": "64af339f-ff16-4389-b7f5-a015bde8b825"
      },
      "execution_count": 32,
      "outputs": [
        {
          "output_type": "stream",
          "name": "stdout",
          "text": [
            "andinho do 0800kennety\n",
            "olá kennety\n"
          ]
        }
      ]
    },
    {
      "cell_type": "code",
      "source": [
        "#pede um número e multiplica por 3\n",
        "num = input ('shazam, carai\"')\n",
        "print(num*2)\n",
        "print(\"internet-lembra-cantor-manoel-gomes-caneta-azul-apos-lula-falar-de-caneta-com-que-assinou-termo-de-posse-rv1-1-25636746\")"
      ],
      "metadata": {
        "colab": {
          "base_uri": "https://localhost:8080/"
        },
        "id": "b2V-T-p75SEX",
        "outputId": "cd8e2244-0a6b-49e3-e33a-9303dc157e96"
      },
      "execution_count": 35,
      "outputs": [
        {
          "output_type": "stream",
          "name": "stdout",
          "text": [
            "shazam, carai\"salve\n",
            "salvesalve\n",
            "internet-lembra-cantor-manoel-gomes-caneta-azul-apos-lula-falar-de-caneta-com-que-assinou-termo-de-posse-rv1-1-25636746\n"
          ]
        }
      ]
    },
    {
      "cell_type": "code",
      "source": [],
      "metadata": {
        "id": "-w8jKI7WwiP2"
      },
      "execution_count": null,
      "outputs": []
    }
  ]
}